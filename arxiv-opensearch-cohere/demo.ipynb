{
 "cells": [
  {
   "cell_type": "code",
   "execution_count": 2,
   "metadata": {},
   "outputs": [],
   "source": [
    "from utils import find_similar_docs, search_fuzzy, search_match_phrase, format_search_output\n",
    "import pandas as pd "
   ]
  },
  {
   "cell_type": "code",
   "execution_count": 14,
   "metadata": {},
   "outputs": [],
   "source": [
    "INDEX_NAME = \"arxiv-cosine\" \n",
    "query = \"what are fossil fuel s?\""
   ]
  },
  {
   "cell_type": "code",
   "execution_count": 15,
   "metadata": {},
   "outputs": [
    {
     "data": {
      "text/plain": [
       "['what', 'are', 'fossil', 'fuel']"
      ]
     },
     "execution_count": 15,
     "metadata": {},
     "output_type": "execute_result"
    }
   ],
   "source": [
    "query_keywords = [q for q in query.split(\" \") if len(q) > 2]\n",
    "query_keywords"
   ]
  },
  {
   "attachments": {},
   "cell_type": "markdown",
   "metadata": {},
   "source": [
    "## Retrieve lexical search results on OpenSearch index"
   ]
  },
  {
   "attachments": {},
   "cell_type": "markdown",
   "metadata": {},
   "source": [
    "### Run exact match phrase search"
   ]
  },
  {
   "cell_type": "code",
   "execution_count": 16,
   "metadata": {},
   "outputs": [
    {
     "name": "stdout",
     "output_type": "stream",
     "text": [
      "Searching for `what` in the field `text`\n",
      "Searching for `are` in the field `text`\n",
      "Searching for `fossil` in the field `text`\n",
      "Searching for `fuel` in the field `text`\n"
     ]
    }
   ],
   "source": [
    "lexical_df = pd.DataFrame()\n",
    "for q in query_keywords:\n",
    "    out_shard = search_match_phrase(field='text', query=q, index_name=INDEX_NAME)\n",
    "    df_ = format_search_output(out_shard)\n",
    "    lexical_df = pd.concat([lexical_df, df_], axis=0)\n",
    "          "
   ]
  },
  {
   "cell_type": "code",
   "execution_count": 17,
   "metadata": {},
   "outputs": [
    {
     "data": {
      "text/html": [
       "<div>\n",
       "<style scoped>\n",
       "    .dataframe tbody tr th:only-of-type {\n",
       "        vertical-align: middle;\n",
       "    }\n",
       "\n",
       "    .dataframe tbody tr th {\n",
       "        vertical-align: top;\n",
       "    }\n",
       "\n",
       "    .dataframe thead th {\n",
       "        text-align: right;\n",
       "    }\n",
       "</style>\n",
       "<table border=\"1\" class=\"dataframe\">\n",
       "  <thead>\n",
       "    <tr style=\"text-align: right;\">\n",
       "      <th></th>\n",
       "      <th>score</th>\n",
       "      <th>abstract</th>\n",
       "      <th>title</th>\n",
       "      <th>arxiv_id</th>\n",
       "      <th>embeddings</th>\n",
       "    </tr>\n",
       "  </thead>\n",
       "  <tbody>\n",
       "    <tr>\n",
       "      <th>0</th>\n",
       "      <td>7.011356</td>\n",
       "      <td>During the last three decades, evidence has ...</td>\n",
       "      <td>Cool Stars in Hot Places</td>\n",
       "      <td>704.1045</td>\n",
       "      <td>[-1.1015625, -0.2487793, -0.74072266, 0.734863...</td>\n",
       "    </tr>\n",
       "    <tr>\n",
       "      <th>1</th>\n",
       "      <td>6.443816</td>\n",
       "      <td>The amount $Q$ of particles that are transpo...</td>\n",
       "      <td>Counting statistics in multiple path geometrie...</td>\n",
       "      <td>704.3506</td>\n",
       "      <td>[-1.2714844, -0.23791504, -2.4316406, 0.610351...</td>\n",
       "    </tr>\n",
       "    <tr>\n",
       "      <th>2</th>\n",
       "      <td>6.321819</td>\n",
       "      <td>The Large Hadron Collider, a 7 + 7 TeV proto...</td>\n",
       "      <td>Higgs Bosons, Electroweak Symmetry Breaking, a...</td>\n",
       "      <td>704.2045</td>\n",
       "      <td>[-0.08380127, -3.2636719, -1.5712891, -0.45947...</td>\n",
       "    </tr>\n",
       "    <tr>\n",
       "      <th>3</th>\n",
       "      <td>6.000948</td>\n",
       "      <td>We present recent measurements of B and B^0_...</td>\n",
       "      <td>Y(5S): What has been learned and what can be l...</td>\n",
       "      <td>705.0342</td>\n",
       "      <td>[0.53466797, -2.8886719, 0.4975586, 2.9589844,...</td>\n",
       "    </tr>\n",
       "    <tr>\n",
       "      <th>4</th>\n",
       "      <td>5.982053</td>\n",
       "      <td>Category theory has foundational importance ...</td>\n",
       "      <td>Adjoint Functors and Heteromorphisms</td>\n",
       "      <td>704.2207</td>\n",
       "      <td>[-1.0878906, -1.5673828, 1.0390625, 2.1894531,...</td>\n",
       "    </tr>\n",
       "  </tbody>\n",
       "</table>\n",
       "</div>"
      ],
      "text/plain": [
       "      score                                           abstract  \\\n",
       "0  7.011356    During the last three decades, evidence has ...   \n",
       "1  6.443816    The amount $Q$ of particles that are transpo...   \n",
       "2  6.321819    The Large Hadron Collider, a 7 + 7 TeV proto...   \n",
       "3  6.000948    We present recent measurements of B and B^0_...   \n",
       "4  5.982053    Category theory has foundational importance ...   \n",
       "\n",
       "                                               title  arxiv_id  \\\n",
       "0                           Cool Stars in Hot Places  704.1045   \n",
       "1  Counting statistics in multiple path geometrie...  704.3506   \n",
       "2  Higgs Bosons, Electroweak Symmetry Breaking, a...  704.2045   \n",
       "3  Y(5S): What has been learned and what can be l...  705.0342   \n",
       "4               Adjoint Functors and Heteromorphisms  704.2207   \n",
       "\n",
       "                                          embeddings  \n",
       "0  [-1.1015625, -0.2487793, -0.74072266, 0.734863...  \n",
       "1  [-1.2714844, -0.23791504, -2.4316406, 0.610351...  \n",
       "2  [-0.08380127, -3.2636719, -1.5712891, -0.45947...  \n",
       "3  [0.53466797, -2.8886719, 0.4975586, 2.9589844,...  \n",
       "4  [-1.0878906, -1.5673828, 1.0390625, 2.1894531,...  "
      ]
     },
     "execution_count": 17,
     "metadata": {},
     "output_type": "execute_result"
    }
   ],
   "source": [
    "lexical_df.head()"
   ]
  },
  {
   "attachments": {},
   "cell_type": "markdown",
   "metadata": {},
   "source": [
    "### Run fuzzy word search \n",
    "By specifying the level of `fuzziness` we can tolerate for things like mispellings, typos etc. `fuzziness` is an integer>=0 where when `fuzziness=0` we are saying we don't want any fuzziness and want an exact match. When `fuzziness=1`, we are saying we can tolerate results that are one character off from our search query. "
   ]
  },
  {
   "cell_type": "code",
   "execution_count": 18,
   "metadata": {},
   "outputs": [
    {
     "name": "stdout",
     "output_type": "stream",
     "text": [
      "Search for `what` in the `text` field with fuzziness set to 1\n",
      "Search for `are` in the `text` field with fuzziness set to 1\n",
      "Search for `fossil` in the `text` field with fuzziness set to 1\n",
      "Search for `fuel` in the `text` field with fuzziness set to 1\n"
     ]
    }
   ],
   "source": [
    "fuzzy_df = pd.DataFrame()\n",
    "for q in query_keywords:\n",
    "    out_shard = search_fuzzy(field='text', query=q, fuzziness=1, index_name=INDEX_NAME)\n",
    "    df_ = format_search_output(out_shard)\n",
    "    fuzzy_df = pd.concat([fuzzy_df, df_], axis=0)\n",
    "          "
   ]
  },
  {
   "cell_type": "code",
   "execution_count": 19,
   "metadata": {},
   "outputs": [
    {
     "data": {
      "text/html": [
       "<div>\n",
       "<style scoped>\n",
       "    .dataframe tbody tr th:only-of-type {\n",
       "        vertical-align: middle;\n",
       "    }\n",
       "\n",
       "    .dataframe tbody tr th {\n",
       "        vertical-align: top;\n",
       "    }\n",
       "\n",
       "    .dataframe thead th {\n",
       "        text-align: right;\n",
       "    }\n",
       "</style>\n",
       "<table border=\"1\" class=\"dataframe\">\n",
       "  <thead>\n",
       "    <tr style=\"text-align: right;\">\n",
       "      <th></th>\n",
       "      <th>score</th>\n",
       "      <th>abstract</th>\n",
       "      <th>title</th>\n",
       "      <th>arxiv_id</th>\n",
       "      <th>embeddings</th>\n",
       "    </tr>\n",
       "  </thead>\n",
       "  <tbody>\n",
       "    <tr>\n",
       "      <th>0</th>\n",
       "      <td>1.193325</td>\n",
       "      <td>The quantum Zeno effect arises due to freque...</td>\n",
       "      <td>Quantum Zeno Effect in the Decoherent Histories</td>\n",
       "      <td>704.1551</td>\n",
       "      <td>[3.9804688, -0.67041016, -0.6225586, 2.8027344...</td>\n",
       "    </tr>\n",
       "    <tr>\n",
       "      <th>1</th>\n",
       "      <td>1.173753</td>\n",
       "      <td>The amount $Q$ of particles that are transpo...</td>\n",
       "      <td>Counting statistics in multiple path geometrie...</td>\n",
       "      <td>704.3506</td>\n",
       "      <td>[-1.2714844, -0.23791504, -2.4316406, 0.610351...</td>\n",
       "    </tr>\n",
       "    <tr>\n",
       "      <th>2</th>\n",
       "      <td>1.107973</td>\n",
       "      <td>We discuss a scenario that gravitinos produc...</td>\n",
       "      <td>Gravitino Dark Matter from Inflaton Decay</td>\n",
       "      <td>705.0579</td>\n",
       "      <td>[0.52490234, -2.5, -1.6357422, 1.8994141, -0.1...</td>\n",
       "    </tr>\n",
       "    <tr>\n",
       "      <th>3</th>\n",
       "      <td>1.089642</td>\n",
       "      <td>Category theory has foundational importance ...</td>\n",
       "      <td>Adjoint Functors and Heteromorphisms</td>\n",
       "      <td>704.2207</td>\n",
       "      <td>[-1.0878906, -1.5673828, 1.0390625, 2.1894531,...</td>\n",
       "    </tr>\n",
       "    <tr>\n",
       "      <th>4</th>\n",
       "      <td>1.072099</td>\n",
       "      <td>J. G. Thompson showed that a finite group G ...</td>\n",
       "      <td>Two Generator Subalgebras of Lie Algebras</td>\n",
       "      <td>704.2723</td>\n",
       "      <td>[-0.92578125, 0.6074219, -0.81396484, 0.036437...</td>\n",
       "    </tr>\n",
       "  </tbody>\n",
       "</table>\n",
       "</div>"
      ],
      "text/plain": [
       "      score                                           abstract  \\\n",
       "0  1.193325    The quantum Zeno effect arises due to freque...   \n",
       "1  1.173753    The amount $Q$ of particles that are transpo...   \n",
       "2  1.107973    We discuss a scenario that gravitinos produc...   \n",
       "3  1.089642    Category theory has foundational importance ...   \n",
       "4  1.072099    J. G. Thompson showed that a finite group G ...   \n",
       "\n",
       "                                               title  arxiv_id  \\\n",
       "0    Quantum Zeno Effect in the Decoherent Histories  704.1551   \n",
       "1  Counting statistics in multiple path geometrie...  704.3506   \n",
       "2          Gravitino Dark Matter from Inflaton Decay  705.0579   \n",
       "3               Adjoint Functors and Heteromorphisms  704.2207   \n",
       "4          Two Generator Subalgebras of Lie Algebras  704.2723   \n",
       "\n",
       "                                          embeddings  \n",
       "0  [3.9804688, -0.67041016, -0.6225586, 2.8027344...  \n",
       "1  [-1.2714844, -0.23791504, -2.4316406, 0.610351...  \n",
       "2  [0.52490234, -2.5, -1.6357422, 1.8994141, -0.1...  \n",
       "3  [-1.0878906, -1.5673828, 1.0390625, 2.1894531,...  \n",
       "4  [-0.92578125, 0.6074219, -0.81396484, 0.036437...  "
      ]
     },
     "execution_count": 19,
     "metadata": {},
     "output_type": "execute_result"
    }
   ],
   "source": [
    "fuzzy_df.head()"
   ]
  },
  {
   "attachments": {},
   "cell_type": "markdown",
   "metadata": {},
   "source": [
    "### Retrieve semantic search output using OpenSearch knn-vector search and co:here embeddings"
   ]
  },
  {
   "cell_type": "code",
   "execution_count": 20,
   "metadata": {},
   "outputs": [],
   "source": [
    "semantic_out = find_similar_docs(query=query, k=2, num_results=3, index_name=INDEX_NAME) \n",
    "semantic_df = format_search_output(semantic_out)"
   ]
  },
  {
   "cell_type": "code",
   "execution_count": 21,
   "metadata": {},
   "outputs": [
    {
     "data": {
      "text/html": [
       "<div>\n",
       "<style scoped>\n",
       "    .dataframe tbody tr th:only-of-type {\n",
       "        vertical-align: middle;\n",
       "    }\n",
       "\n",
       "    .dataframe tbody tr th {\n",
       "        vertical-align: top;\n",
       "    }\n",
       "\n",
       "    .dataframe thead th {\n",
       "        text-align: right;\n",
       "    }\n",
       "</style>\n",
       "<table border=\"1\" class=\"dataframe\">\n",
       "  <thead>\n",
       "    <tr style=\"text-align: right;\">\n",
       "      <th></th>\n",
       "      <th>score</th>\n",
       "      <th>abstract</th>\n",
       "      <th>title</th>\n",
       "      <th>arxiv_id</th>\n",
       "      <th>embeddings</th>\n",
       "    </tr>\n",
       "  </thead>\n",
       "  <tbody>\n",
       "    <tr>\n",
       "      <th>0</th>\n",
       "      <td>0.689815</td>\n",
       "      <td>Unconstrained CO2 emission from fossil fuel ...</td>\n",
       "      <td>Implications of \"peak oil\" for atmospheric CO2...</td>\n",
       "      <td>704.2782</td>\n",
       "      <td>[-1.7470703, -1.1748047, -1.3642578, 2.6113281...</td>\n",
       "    </tr>\n",
       "    <tr>\n",
       "      <th>1</th>\n",
       "      <td>0.568270</td>\n",
       "      <td>The structure of three laminar premixed rich...</td>\n",
       "      <td>Rich methane premixed laminar flames doped by ...</td>\n",
       "      <td>704.0375</td>\n",
       "      <td>[0.5957031, -0.41552734, -0.984375, 1.2890625,...</td>\n",
       "    </tr>\n",
       "    <tr>\n",
       "      <th>2</th>\n",
       "      <td>0.567950</td>\n",
       "      <td>Author offers and researches a new, cheap me...</td>\n",
       "      <td>Extraction of Freshwater and Energy from Atmos...</td>\n",
       "      <td>704.2571</td>\n",
       "      <td>[1.7832031, 0.5048828, -0.52783203, -0.6523437...</td>\n",
       "    </tr>\n",
       "  </tbody>\n",
       "</table>\n",
       "</div>"
      ],
      "text/plain": [
       "      score                                           abstract  \\\n",
       "0  0.689815    Unconstrained CO2 emission from fossil fuel ...   \n",
       "1  0.568270    The structure of three laminar premixed rich...   \n",
       "2  0.567950    Author offers and researches a new, cheap me...   \n",
       "\n",
       "                                               title  arxiv_id  \\\n",
       "0  Implications of \"peak oil\" for atmospheric CO2...  704.2782   \n",
       "1  Rich methane premixed laminar flames doped by ...  704.0375   \n",
       "2  Extraction of Freshwater and Energy from Atmos...  704.2571   \n",
       "\n",
       "                                          embeddings  \n",
       "0  [-1.7470703, -1.1748047, -1.3642578, 2.6113281...  \n",
       "1  [0.5957031, -0.41552734, -0.984375, 1.2890625,...  \n",
       "2  [1.7832031, 0.5048828, -0.52783203, -0.6523437...  "
      ]
     },
     "execution_count": 21,
     "metadata": {},
     "output_type": "execute_result"
    }
   ],
   "source": [
    "semantic_df.head()"
   ]
  },
  {
   "attachments": {},
   "cell_type": "markdown",
   "metadata": {},
   "source": [
    "## Visualize outputs\n",
    "Let's take the top abstract result from the `lexical_df`, `fuzzy_df` and the top abstract result from the `semantic_df` and see if the results look interesting. They query keywords in all abstract results are highlighted to show that while the semantic results may not retrieve the most keywords, the results are semantically more meaningful than lexical/fuzzy based approaches. "
   ]
  },
  {
   "cell_type": "code",
   "execution_count": 22,
   "metadata": {},
   "outputs": [],
   "source": [
    "from utils import colorize\n",
    "\n",
    "def visualize(top_row, color): \n",
    "    print(f'''Top result for lexical search is arxiv_id={top_row['arxiv_id']} with score={top_row['score']}\\n''')\n",
    "    print(colorize(top_row.abstract, query_keywords, color=color))"
   ]
  },
  {
   "cell_type": "code",
   "execution_count": 23,
   "metadata": {},
   "outputs": [
    {
     "name": "stdout",
     "output_type": "stream",
     "text": [
      "Top result for lexical search is arxiv_id=704.1045 with score=7.0113564\n",
      "\n",
      "  during the last three decades, evidence has mounted that star and planet\n",
      "formation is not an isolated process, but is influenced by current and previous\n",
      "generations of stars. although cool stars form in a range of environments, from\n",
      "isolated globules to rich embedded clusters, the influences of other stars on\n",
      "cool star and planet formation may be most significant in embedded clusters,\n",
      "where hundreds to thousands of cool stars form in close proximity to ob stars.\n",
      "at the cool stars 14 meeting, a splinter session was convened to discuss the\n",
      "role of environment in the formation of cool stars and planetary systems; with\n",
      "an emphasis on the ``hot'' environment found in rich clusters. we review here\n",
      "the basic results, ideas and questions presented at the session. we have\n",
      "organized this contribution into five basic questions: \u001b[5m\u001b[7m\u001b[36mwhat\u001b[0m is the typical\n",
      "environment of cool star formation, \u001b[5m\u001b[7m\u001b[36mwhat\u001b[0m role do hot star play in cool star\n",
      "formation, \u001b[5m\u001b[7m\u001b[36mwhat\u001b[0m role does environment play in planet formation, \u001b[5m\u001b[7m\u001b[36mwhat\u001b[0m is the\n",
      "role of hot star winds and supernovae, and \u001b[5m\u001b[7m\u001b[36mwhat\u001b[0m was the formation environment\n",
      "of the sun? the intention is to review progress made in addressing each\n",
      "question, and to underscore \u001b[5m\u001b[7m\u001b[36mare\u001b[0mas of agreement and contention.\n",
      "\n"
     ]
    }
   ],
   "source": [
    "visualize(lexical_df.iloc[0], color=\"cyan\")\n"
   ]
  },
  {
   "cell_type": "code",
   "execution_count": 24,
   "metadata": {},
   "outputs": [
    {
     "name": "stdout",
     "output_type": "stream",
     "text": [
      "Top result for lexical search is arxiv_id=704.1551 with score=1.193325\n",
      "\n",
      "  the quantum zeno effect arises due to frequent observation. that implies the\n",
      "existence of some experimenter and its interaction with the system. in this\n",
      "contribution, we examine \u001b[5m\u001b[7m\u001b[34mwhat\u001b[0m happens for a closed system if one considers a\n",
      "quantum zeno type of question, namely: \"\u001b[5m\u001b[7m\u001b[34mwhat\u001b[0m is the probability of a system,\n",
      "remaining always in a particular subspace\". this has implications to the\n",
      "arrival time problem that is also discussed. we employ the decoherent histories\n",
      "approach to quantum theory, as this is the better developed formulation of\n",
      "closed system quantum mechanics, and in particular, dealing with questions that\n",
      "involve time in a non-trivial way. we get a very restrictive decoherence\n",
      "condition, that implies that even if we do introduce an environment, there will\n",
      "be very few cases that we can assign probabilities to these histories, but in\n",
      "those cases, the quantum zeno effect is still present.\n",
      "\n"
     ]
    }
   ],
   "source": [
    "visualize(fuzzy_df.iloc[0], color=\"blue\")"
   ]
  },
  {
   "cell_type": "code",
   "execution_count": 25,
   "metadata": {},
   "outputs": [
    {
     "name": "stdout",
     "output_type": "stream",
     "text": [
      "Top result for lexical search is arxiv_id=704.2782 with score=0.68981475\n",
      "\n",
      "  unconstrained co2 emission from \u001b[5m\u001b[7m\u001b[32mfossil\u001b[0m \u001b[5m\u001b[7m\u001b[32mfuel\u001b[0m burning has been the dominant\n",
      "cause of observed anthropogenic global warming. the amounts of \"proven\" and\n",
      "potential \u001b[5m\u001b[7m\u001b[32mfossil\u001b[0m \u001b[5m\u001b[7m\u001b[32mfuel\u001b[0m reserves \u001b[5m\u001b[7m\u001b[32mare\u001b[0m uncertain and debated. regardless of the\n",
      "true values, society has flexibility in the degree to which it chooses to\n",
      "exploit these reserves, especially unconventional \u001b[5m\u001b[7m\u001b[32mfossil\u001b[0m \u001b[5m\u001b[7m\u001b[32mfuel\u001b[0ms and those\n",
      "located in extreme or pristine environments. if conventional oil production\n",
      "peaks within the next few decades, it may have a large effect on future\n",
      "atmospheric co2 and climate change, depending upon subsequent energy choices.\n",
      "assuming that proven oil and gas reserves do not greatly exceed estimates of\n",
      "the energy information administration, and recent trends \u001b[5m\u001b[7m\u001b[32mare\u001b[0m toward lower\n",
      "estimates, we show that it is feasible to keep atmospheric co2 from exceeding\n",
      "about 450 ppm by 2100, provided that emissions from coal, unconventional \u001b[5m\u001b[7m\u001b[32mfossil\u001b[0m\n",
      "\u001b[5m\u001b[7m\u001b[32mfuel\u001b[0ms, and land use \u001b[5m\u001b[7m\u001b[32mare\u001b[0m constrained. coal-fired power plants without\n",
      "sequestration must be phased out before mid-century to achieve this co2 limit.\n",
      "it is also important to \"stretch\" conventional oil reserves via energy\n",
      "conservation and efficiency, thus averting strong pressures to extract liquid\n",
      "\u001b[5m\u001b[7m\u001b[32mfuel\u001b[0ms from coal or unconventional \u001b[5m\u001b[7m\u001b[32mfossil\u001b[0m \u001b[5m\u001b[7m\u001b[32mfuel\u001b[0ms while clean technologies \u001b[5m\u001b[7m\u001b[32mare\u001b[0m\n",
      "being developed for the era \"beyond \u001b[5m\u001b[7m\u001b[32mfossil\u001b[0m \u001b[5m\u001b[7m\u001b[32mfuel\u001b[0ms\". we argue that a rising price\n",
      "on carbon emissions is needed to discourage conversion of the vast \u001b[5m\u001b[7m\u001b[32mfossil\u001b[0m\n",
      "resources into usable reserves, and to keep co2 beneath the 450 ppm ceiling.\n",
      "\n"
     ]
    }
   ],
   "source": [
    "visualize(semantic_df.iloc[0], color=\"green\")"
   ]
  },
  {
   "cell_type": "code",
   "execution_count": null,
   "metadata": {},
   "outputs": [],
   "source": []
  },
  {
   "cell_type": "code",
   "execution_count": null,
   "metadata": {},
   "outputs": [],
   "source": []
  }
 ],
 "metadata": {
  "kernelspec": {
   "display_name": "base",
   "language": "python",
   "name": "python3"
  },
  "language_info": {
   "codemirror_mode": {
    "name": "ipython",
    "version": 3
   },
   "file_extension": ".py",
   "mimetype": "text/x-python",
   "name": "python",
   "nbconvert_exporter": "python",
   "pygments_lexer": "ipython3",
   "version": "3.10.8"
  }
 },
 "nbformat": 4,
 "nbformat_minor": 2
}
