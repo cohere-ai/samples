{
 "cells": [
  {
   "cell_type": "code",
   "execution_count": 1,
   "metadata": {},
   "outputs": [],
   "source": [
    "from utils import find_similar_docs, search_fuzzy, search_match_phrase, format_search_output\n",
    "import pandas as pd "
   ]
  },
  {
   "cell_type": "code",
   "execution_count": 2,
   "metadata": {},
   "outputs": [],
   "source": [
    "# two indices were created with different distance functions for the approximate k-nn algorithm: \n",
    "# experiment with `arxiv-cosine` and `arxiv-l2`\n",
    "INDEX_NAME = \"arxiv-cosine\" \n",
    "query = \"what is a non coding dna substring\""
   ]
  },
  {
   "cell_type": "code",
   "execution_count": 3,
   "metadata": {},
   "outputs": [
    {
     "data": {
      "text/plain": [
       "['what', 'non', 'coding', 'dna', 'substring']"
      ]
     },
     "execution_count": 3,
     "metadata": {},
     "output_type": "execute_result"
    }
   ],
   "source": [
    "query_keywords = [q for q in query.split(\" \") if len(q) > 2]\n",
    "query_keywords"
   ]
  },
  {
   "cell_type": "markdown",
   "metadata": {},
   "source": [
    "## Retrieve lexical search results on OpenSearch index"
   ]
  },
  {
   "cell_type": "markdown",
   "metadata": {},
   "source": [
    "### Run exact match phrase search"
   ]
  },
  {
   "cell_type": "code",
   "execution_count": 4,
   "metadata": {},
   "outputs": [
    {
     "name": "stdout",
     "output_type": "stream",
     "text": [
      "Searching for `what` in the field `text`\n",
      "Searching for `non` in the field `text`\n",
      "Searching for `coding` in the field `text`\n",
      "Searching for `dna` in the field `text`\n",
      "Searching for `substring` in the field `text`\n"
     ]
    }
   ],
   "source": [
    "lexical_df = pd.DataFrame()\n",
    "for q in query_keywords:\n",
    "# for q in [query]:\n",
    "    out_shard = search_match_phrase(field='text', query=q, index_name=INDEX_NAME)\n",
    "    df_ = format_search_output(out_shard)\n",
    "    lexical_df = pd.concat([lexical_df, df_], axis=0)\n",
    "          "
   ]
  },
  {
   "cell_type": "code",
   "execution_count": 5,
   "metadata": {},
   "outputs": [
    {
     "data": {
      "text/html": [
       "<div>\n",
       "<style scoped>\n",
       "    .dataframe tbody tr th:only-of-type {\n",
       "        vertical-align: middle;\n",
       "    }\n",
       "\n",
       "    .dataframe tbody tr th {\n",
       "        vertical-align: top;\n",
       "    }\n",
       "\n",
       "    .dataframe thead th {\n",
       "        text-align: right;\n",
       "    }\n",
       "</style>\n",
       "<table border=\"1\" class=\"dataframe\">\n",
       "  <thead>\n",
       "    <tr style=\"text-align: right;\">\n",
       "      <th></th>\n",
       "      <th>score</th>\n",
       "      <th>abstract</th>\n",
       "      <th>title</th>\n",
       "      <th>arxiv_id</th>\n",
       "      <th>embeddings</th>\n",
       "    </tr>\n",
       "  </thead>\n",
       "  <tbody>\n",
       "    <tr>\n",
       "      <th>0</th>\n",
       "      <td>7.011356</td>\n",
       "      <td>During the last three decades, evidence has ...</td>\n",
       "      <td>Cool Stars in Hot Places</td>\n",
       "      <td>704.1045</td>\n",
       "      <td>[-1.1015625, -0.2487793, -0.74072266, 0.734863...</td>\n",
       "    </tr>\n",
       "    <tr>\n",
       "      <th>1</th>\n",
       "      <td>6.443816</td>\n",
       "      <td>The amount $Q$ of particles that are transpo...</td>\n",
       "      <td>Counting statistics in multiple path geometrie...</td>\n",
       "      <td>704.3506</td>\n",
       "      <td>[-1.2714844, -0.23791504, -2.4316406, 0.610351...</td>\n",
       "    </tr>\n",
       "    <tr>\n",
       "      <th>2</th>\n",
       "      <td>6.321819</td>\n",
       "      <td>The Large Hadron Collider, a 7 + 7 TeV proto...</td>\n",
       "      <td>Higgs Bosons, Electroweak Symmetry Breaking, a...</td>\n",
       "      <td>704.2045</td>\n",
       "      <td>[-0.08380127, -3.2636719, -1.5712891, -0.45947...</td>\n",
       "    </tr>\n",
       "    <tr>\n",
       "      <th>3</th>\n",
       "      <td>6.000948</td>\n",
       "      <td>We present recent measurements of B and B^0_...</td>\n",
       "      <td>Y(5S): What has been learned and what can be l...</td>\n",
       "      <td>705.0342</td>\n",
       "      <td>[0.53466797, -2.8886719, 0.4975586, 2.9589844,...</td>\n",
       "    </tr>\n",
       "    <tr>\n",
       "      <th>4</th>\n",
       "      <td>5.982053</td>\n",
       "      <td>Category theory has foundational importance ...</td>\n",
       "      <td>Adjoint Functors and Heteromorphisms</td>\n",
       "      <td>704.2207</td>\n",
       "      <td>[-1.0878906, -1.5673828, 1.0390625, 2.1894531,...</td>\n",
       "    </tr>\n",
       "  </tbody>\n",
       "</table>\n",
       "</div>"
      ],
      "text/plain": [
       "      score                                           abstract  \\\n",
       "0  7.011356    During the last three decades, evidence has ...   \n",
       "1  6.443816    The amount $Q$ of particles that are transpo...   \n",
       "2  6.321819    The Large Hadron Collider, a 7 + 7 TeV proto...   \n",
       "3  6.000948    We present recent measurements of B and B^0_...   \n",
       "4  5.982053    Category theory has foundational importance ...   \n",
       "\n",
       "                                               title  arxiv_id  \\\n",
       "0                           Cool Stars in Hot Places  704.1045   \n",
       "1  Counting statistics in multiple path geometrie...  704.3506   \n",
       "2  Higgs Bosons, Electroweak Symmetry Breaking, a...  704.2045   \n",
       "3  Y(5S): What has been learned and what can be l...  705.0342   \n",
       "4               Adjoint Functors and Heteromorphisms  704.2207   \n",
       "\n",
       "                                          embeddings  \n",
       "0  [-1.1015625, -0.2487793, -0.74072266, 0.734863...  \n",
       "1  [-1.2714844, -0.23791504, -2.4316406, 0.610351...  \n",
       "2  [-0.08380127, -3.2636719, -1.5712891, -0.45947...  \n",
       "3  [0.53466797, -2.8886719, 0.4975586, 2.9589844,...  \n",
       "4  [-1.0878906, -1.5673828, 1.0390625, 2.1894531,...  "
      ]
     },
     "execution_count": 5,
     "metadata": {},
     "output_type": "execute_result"
    }
   ],
   "source": [
    "lexical_df.head()"
   ]
  },
  {
   "cell_type": "markdown",
   "metadata": {},
   "source": [
    "### Run fuzzy word search \n",
    "By specifying the level of `fuzziness` we can tolerate for things like mispellings, typos etc. `fuzziness` is an integer>=0 where when `fuzziness=0` we are saying we don't want any fuzziness and want an exact match. When `fuzziness=1`, we are saying we can tolerate results that are one character off from our search query. "
   ]
  },
  {
   "cell_type": "code",
   "execution_count": 6,
   "metadata": {},
   "outputs": [
    {
     "name": "stdout",
     "output_type": "stream",
     "text": [
      "Search for `what` in the `text` field with fuzziness set to 1\n",
      "Search for `non` in the `text` field with fuzziness set to 1\n",
      "Search for `coding` in the `text` field with fuzziness set to 1\n",
      "Search for `dna` in the `text` field with fuzziness set to 1\n",
      "Search for `substring` in the `text` field with fuzziness set to 1\n"
     ]
    }
   ],
   "source": [
    "fuzzy_df = pd.DataFrame()\n",
    "for q in query_keywords:\n",
    "    out_shard = search_fuzzy(field='text', query=q, fuzziness=1, index_name=INDEX_NAME)\n",
    "    df_ = format_search_output(out_shard)\n",
    "    fuzzy_df = pd.concat([fuzzy_df, df_], axis=0)\n",
    "          "
   ]
  },
  {
   "cell_type": "code",
   "execution_count": 7,
   "metadata": {},
   "outputs": [
    {
     "data": {
      "text/html": [
       "<div>\n",
       "<style scoped>\n",
       "    .dataframe tbody tr th:only-of-type {\n",
       "        vertical-align: middle;\n",
       "    }\n",
       "\n",
       "    .dataframe tbody tr th {\n",
       "        vertical-align: top;\n",
       "    }\n",
       "\n",
       "    .dataframe thead th {\n",
       "        text-align: right;\n",
       "    }\n",
       "</style>\n",
       "<table border=\"1\" class=\"dataframe\">\n",
       "  <thead>\n",
       "    <tr style=\"text-align: right;\">\n",
       "      <th></th>\n",
       "      <th>score</th>\n",
       "      <th>abstract</th>\n",
       "      <th>title</th>\n",
       "      <th>arxiv_id</th>\n",
       "      <th>embeddings</th>\n",
       "    </tr>\n",
       "  </thead>\n",
       "  <tbody>\n",
       "    <tr>\n",
       "      <th>0</th>\n",
       "      <td>1.193325</td>\n",
       "      <td>The quantum Zeno effect arises due to freque...</td>\n",
       "      <td>Quantum Zeno Effect in the Decoherent Histories</td>\n",
       "      <td>704.1551</td>\n",
       "      <td>[3.9804688, -0.67041016, -0.6225586, 2.8027344...</td>\n",
       "    </tr>\n",
       "    <tr>\n",
       "      <th>1</th>\n",
       "      <td>1.173753</td>\n",
       "      <td>The amount $Q$ of particles that are transpo...</td>\n",
       "      <td>Counting statistics in multiple path geometrie...</td>\n",
       "      <td>704.3506</td>\n",
       "      <td>[-1.2714844, -0.23791504, -2.4316406, 0.610351...</td>\n",
       "    </tr>\n",
       "    <tr>\n",
       "      <th>2</th>\n",
       "      <td>1.107973</td>\n",
       "      <td>We discuss a scenario that gravitinos produc...</td>\n",
       "      <td>Gravitino Dark Matter from Inflaton Decay</td>\n",
       "      <td>705.0579</td>\n",
       "      <td>[0.52490234, -2.5, -1.6357422, 1.8994141, -0.1...</td>\n",
       "    </tr>\n",
       "    <tr>\n",
       "      <th>3</th>\n",
       "      <td>1.089642</td>\n",
       "      <td>Category theory has foundational importance ...</td>\n",
       "      <td>Adjoint Functors and Heteromorphisms</td>\n",
       "      <td>704.2207</td>\n",
       "      <td>[-1.0878906, -1.5673828, 1.0390625, 2.1894531,...</td>\n",
       "    </tr>\n",
       "    <tr>\n",
       "      <th>4</th>\n",
       "      <td>1.072099</td>\n",
       "      <td>J. G. Thompson showed that a finite group G ...</td>\n",
       "      <td>Two Generator Subalgebras of Lie Algebras</td>\n",
       "      <td>704.2723</td>\n",
       "      <td>[-0.92578125, 0.6074219, -0.81396484, 0.036437...</td>\n",
       "    </tr>\n",
       "  </tbody>\n",
       "</table>\n",
       "</div>"
      ],
      "text/plain": [
       "      score                                           abstract  \\\n",
       "0  1.193325    The quantum Zeno effect arises due to freque...   \n",
       "1  1.173753    The amount $Q$ of particles that are transpo...   \n",
       "2  1.107973    We discuss a scenario that gravitinos produc...   \n",
       "3  1.089642    Category theory has foundational importance ...   \n",
       "4  1.072099    J. G. Thompson showed that a finite group G ...   \n",
       "\n",
       "                                               title  arxiv_id  \\\n",
       "0    Quantum Zeno Effect in the Decoherent Histories  704.1551   \n",
       "1  Counting statistics in multiple path geometrie...  704.3506   \n",
       "2          Gravitino Dark Matter from Inflaton Decay  705.0579   \n",
       "3               Adjoint Functors and Heteromorphisms  704.2207   \n",
       "4          Two Generator Subalgebras of Lie Algebras  704.2723   \n",
       "\n",
       "                                          embeddings  \n",
       "0  [3.9804688, -0.67041016, -0.6225586, 2.8027344...  \n",
       "1  [-1.2714844, -0.23791504, -2.4316406, 0.610351...  \n",
       "2  [0.52490234, -2.5, -1.6357422, 1.8994141, -0.1...  \n",
       "3  [-1.0878906, -1.5673828, 1.0390625, 2.1894531,...  \n",
       "4  [-0.92578125, 0.6074219, -0.81396484, 0.036437...  "
      ]
     },
     "execution_count": 7,
     "metadata": {},
     "output_type": "execute_result"
    }
   ],
   "source": [
    "fuzzy_df.head()"
   ]
  },
  {
   "cell_type": "markdown",
   "metadata": {},
   "source": [
    "### Retrieve semantic search output using OpenSearch knn-vector search and co:here embeddings"
   ]
  },
  {
   "cell_type": "code",
   "execution_count": 8,
   "metadata": {},
   "outputs": [],
   "source": [
    "semantic_out = find_similar_docs(query=query, k=2, num_results=3, index_name=INDEX_NAME) \n",
    "semantic_df = format_search_output(semantic_out)"
   ]
  },
  {
   "cell_type": "code",
   "execution_count": 9,
   "metadata": {},
   "outputs": [
    {
     "data": {
      "text/html": [
       "<div>\n",
       "<style scoped>\n",
       "    .dataframe tbody tr th:only-of-type {\n",
       "        vertical-align: middle;\n",
       "    }\n",
       "\n",
       "    .dataframe tbody tr th {\n",
       "        vertical-align: top;\n",
       "    }\n",
       "\n",
       "    .dataframe thead th {\n",
       "        text-align: right;\n",
       "    }\n",
       "</style>\n",
       "<table border=\"1\" class=\"dataframe\">\n",
       "  <thead>\n",
       "    <tr style=\"text-align: right;\">\n",
       "      <th></th>\n",
       "      <th>score</th>\n",
       "      <th>abstract</th>\n",
       "      <th>title</th>\n",
       "      <th>arxiv_id</th>\n",
       "      <th>embeddings</th>\n",
       "    </tr>\n",
       "  </thead>\n",
       "  <tbody>\n",
       "    <tr>\n",
       "      <th>0</th>\n",
       "      <td>0.625989</td>\n",
       "      <td>The complementary strands of DNA molecules c...</td>\n",
       "      <td>Inferring DNA sequences from mechanical unzipp...</td>\n",
       "      <td>704.2547</td>\n",
       "      <td>[-1.3017578, -1.171875, -0.68652344, -0.451660...</td>\n",
       "    </tr>\n",
       "    <tr>\n",
       "      <th>1</th>\n",
       "      <td>0.621320</td>\n",
       "      <td>Significant fraction (98.5% in humans) of mo...</td>\n",
       "      <td>Non-coding DNA programs express adaptation and...</td>\n",
       "      <td>704.3826</td>\n",
       "      <td>[-0.08514404, -0.12237549, 0.51953125, 0.21618...</td>\n",
       "    </tr>\n",
       "    <tr>\n",
       "      <th>2</th>\n",
       "      <td>0.613738</td>\n",
       "      <td>It had been proposed that overstretching dou...</td>\n",
       "      <td>Investigation of a new conformation of double ...</td>\n",
       "      <td>704.3753</td>\n",
       "      <td>[1.5517578, 0.20678711, 1.7099609, -2.2578125,...</td>\n",
       "    </tr>\n",
       "  </tbody>\n",
       "</table>\n",
       "</div>"
      ],
      "text/plain": [
       "      score                                           abstract  \\\n",
       "0  0.625989    The complementary strands of DNA molecules c...   \n",
       "1  0.621320    Significant fraction (98.5% in humans) of mo...   \n",
       "2  0.613738    It had been proposed that overstretching dou...   \n",
       "\n",
       "                                               title  arxiv_id  \\\n",
       "0  Inferring DNA sequences from mechanical unzipp...  704.2547   \n",
       "1  Non-coding DNA programs express adaptation and...  704.3826   \n",
       "2  Investigation of a new conformation of double ...  704.3753   \n",
       "\n",
       "                                          embeddings  \n",
       "0  [-1.3017578, -1.171875, -0.68652344, -0.451660...  \n",
       "1  [-0.08514404, -0.12237549, 0.51953125, 0.21618...  \n",
       "2  [1.5517578, 0.20678711, 1.7099609, -2.2578125,...  "
      ]
     },
     "execution_count": 9,
     "metadata": {},
     "output_type": "execute_result"
    }
   ],
   "source": [
    "semantic_df.head()"
   ]
  },
  {
   "cell_type": "markdown",
   "metadata": {},
   "source": [
    "## Visualize outputs\n",
    "Let's take the top abstract result from the `lexical_df`, `fuzzy_df` and the top abstract result from the `semantic_df` and see if the results look interesting. They query keywords in all abstract results are highlighted to show that while the semantic results may not retrieve the most keywords, the results are semantically more meaningful than lexical/fuzzy based approaches. "
   ]
  },
  {
   "cell_type": "code",
   "execution_count": 10,
   "metadata": {},
   "outputs": [],
   "source": [
    "from utils import colorize\n",
    "\n",
    "def visualize(top_row, color): \n",
    "    print(f'''Top result for lexical search is arxiv_id={top_row['arxiv_id']} with score={top_row['score']}\\n''')\n",
    "    print(colorize(top_row.abstract, query_keywords, color=color))"
   ]
  },
  {
   "cell_type": "code",
   "execution_count": 11,
   "metadata": {},
   "outputs": [
    {
     "name": "stdout",
     "output_type": "stream",
     "text": [
      "Top result for lexical search is arxiv_id=704.1045 with score=7.0113564\n",
      "\n",
      "  during the last three decades, evidence has mounted that star and planet\n",
      "formation is not an isolated process, but is influenced by current and previous\n",
      "generations of stars. although cool stars form in a range of environments, from\n",
      "isolated globules to rich embedded clusters, the influences of other stars on\n",
      "cool star and planet formation may be most significant in embedded clusters,\n",
      "where hundreds to thousands of cool stars form in close proximity to ob stars.\n",
      "at the cool stars 14 meeting, a splinter session was convened to discuss the\n",
      "role of environment in the formation of cool stars and planetary systems; with\n",
      "an emphasis on the ``hot'' environment found in rich clusters. we review here\n",
      "the basic results, ideas and questions presented at the session. we have\n",
      "organized this contribution into five basic questions: \u001b[5m\u001b[7m\u001b[36mwhat\u001b[0m is the typical\n",
      "environment of cool star formation, \u001b[5m\u001b[7m\u001b[36mwhat\u001b[0m role do hot star play in cool star\n",
      "formation, \u001b[5m\u001b[7m\u001b[36mwhat\u001b[0m role does environment play in planet formation, \u001b[5m\u001b[7m\u001b[36mwhat\u001b[0m is the\n",
      "role of hot star winds and supernovae, and \u001b[5m\u001b[7m\u001b[36mwhat\u001b[0m was the formation environment\n",
      "of the sun? the intention is to review progress made in addressing each\n",
      "question, and to underscore areas of agreement and contention.\n",
      "\n"
     ]
    }
   ],
   "source": [
    "visualize(lexical_df.iloc[0], color=\"cyan\")\n"
   ]
  },
  {
   "cell_type": "code",
   "execution_count": 12,
   "metadata": {},
   "outputs": [
    {
     "name": "stdout",
     "output_type": "stream",
     "text": [
      "Top result for lexical search is arxiv_id=704.1551 with score=1.193325\n",
      "\n",
      "  the quantum zeno effect arises due to frequent observation. that implies the\n",
      "existence of some experimenter and its interaction with the system. in this\n",
      "contribution, we examine \u001b[5m\u001b[7m\u001b[34mwhat\u001b[0m happens for a closed system if one considers a\n",
      "quantum zeno type of question, namely: \"\u001b[5m\u001b[7m\u001b[34mwhat\u001b[0m is the probability of a system,\n",
      "remaining always in a particular subspace\". this has implications to the\n",
      "arrival time problem that is also discussed. we employ the decoherent histories\n",
      "approach to quantum theory, as this is the better developed formulation of\n",
      "closed system quantum mechanics, and in particular, dealing with questions that\n",
      "involve time in a \u001b[5m\u001b[7m\u001b[34mnon\u001b[0m-trivial way. we get a very restrictive decoherence\n",
      "condition, that implies that even if we do introduce an environment, there will\n",
      "be very few cases that we can assign probabilities to these histories, but in\n",
      "those cases, the quantum zeno effect is still present.\n",
      "\n"
     ]
    }
   ],
   "source": [
    "visualize(fuzzy_df.iloc[0], color=\"blue\")"
   ]
  },
  {
   "cell_type": "code",
   "execution_count": 13,
   "metadata": {},
   "outputs": [
    {
     "name": "stdout",
     "output_type": "stream",
     "text": [
      "Top result for lexical search is arxiv_id=704.2547 with score=0.62598944\n",
      "\n",
      "  the complementary strands of \u001b[5m\u001b[7m\u001b[32mdna\u001b[0m molecules can be separated when stretched\n",
      "apart by a force; the unzipping signal is correlated to the base content of the\n",
      "sequence but is affected by thermal and instrumental noise. we consider here\n",
      "the ideal case where opening events are known to a very good time resolution\n",
      "(very large bandwidth), and study how the sequence can be reconstructed from\n",
      "the unzipping data. our approach relies on the use of statistical bayesian\n",
      "inference and of viterbi de\u001b[5m\u001b[7m\u001b[32mcoding\u001b[0m algorithm. performances are studied\n",
      "numerically on monte carlo generated data, and analytically. we show how\n",
      "multiple unzippings of the same molecule may be exploited to improve the\n",
      "quality of the prediction, and calculate analytically the number of required\n",
      "unzippings as a function of the bandwidth, the sequence content, the elasticity\n",
      "parameters of the unzipped strands.\n",
      "\n"
     ]
    }
   ],
   "source": [
    "visualize(semantic_df.iloc[0], color=\"green\")"
   ]
  },
  {
   "cell_type": "code",
   "execution_count": null,
   "metadata": {},
   "outputs": [],
   "source": []
  },
  {
   "cell_type": "code",
   "execution_count": null,
   "metadata": {},
   "outputs": [],
   "source": []
  }
 ],
 "metadata": {
  "kernelspec": {
   "display_name": "osvenv",
   "language": "python",
   "name": "osvenv"
  },
  "language_info": {
   "codemirror_mode": {
    "name": "ipython",
    "version": 3
   },
   "file_extension": ".py",
   "mimetype": "text/x-python",
   "name": "python",
   "nbconvert_exporter": "python",
   "pygments_lexer": "ipython3",
   "version": "3.10.8"
  },
  "vscode": {
   "interpreter": {
    "hash": "e43cd7fc9a0b914cf2ce9232fcaea6db6e79e0f70ad6e1038a13c76029a13bf3"
   }
  }
 },
 "nbformat": 4,
 "nbformat_minor": 2
}
